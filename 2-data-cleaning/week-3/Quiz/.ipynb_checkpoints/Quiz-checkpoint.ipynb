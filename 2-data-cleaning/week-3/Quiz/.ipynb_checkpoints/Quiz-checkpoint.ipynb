{
 "cells": [
  {
   "cell_type": "markdown",
   "metadata": {},
   "source": [
    "[LINK of Quiz](https://www.coursera.org/learn/data-cleaning/exam/hTfQ5/week-3-quiz)"
   ]
  },
  {
   "cell_type": "markdown",
   "metadata": {},
   "source": [
    "# 1. Question 1"
   ]
  },
  {
   "cell_type": "markdown",
   "metadata": {},
   "source": [
    "The American Community Survey distributes downloadable data about United States communities. Download the 2006 microdata survey about housing for the state of Idaho using download.file() from here:<br>\n",
    "https://d396qusza40orc.cloudfront.net/getdata%2Fdata%2Fss06hid.csv<br>\n",
    "and load the data into R. The code book, describing the variable names is here:<br>\n",
    "https://d396qusza40orc.cloudfront.net/getdata%2Fdata%2FPUMSDataDict06.pdf<br>\n",
    "Create a logical vector that identifies the households on greater than 10 acres who sold more than $10,000 worth of agriculture products. <br>Assign that logical vector to the variable agricultureLogical. Apply the which() function like this to identify the rows of the data frame where the logical vector is TRUE.\n",
    "which(agricultureLogical)<br>\n",
    "What are the first 3 values that result?<br><br>\n",
    "- 403, 756, 798<br>\n",
    "- 25, 36, 45<br>\n",
    "- 125, 238,262 <font color='red'>Correct</font><br> \n",
    "- 59, 460, 474"
   ]
  },
  {
   "cell_type": "code",
   "execution_count": 1,
   "metadata": {},
   "outputs": [
    {
     "data": {
      "text/html": [
       "'Wed Jun 12 17:45:42 2019'"
      ],
      "text/latex": [
       "'Wed Jun 12 17:45:42 2019'"
      ],
      "text/markdown": [
       "'Wed Jun 12 17:45:42 2019'"
      ],
      "text/plain": [
       "[1] \"Wed Jun 12 17:45:42 2019\""
      ]
     },
     "metadata": {},
     "output_type": "display_data"
    }
   ],
   "source": [
    "url <- \"https://d396qusza40orc.cloudfront.net/getdata%2Fdata%2Fss06hid.csv\"\n",
    "download.file(url, destfile = \"American_Community_Survey.csv\")\n",
    "(date_downloaded <- date())"
   ]
  },
  {
   "cell_type": "code",
   "execution_count": 2,
   "metadata": {},
   "outputs": [
    {
     "name": "stderr",
     "output_type": "stream",
     "text": [
      "\n",
      "Attaching package: ‘dplyr’\n",
      "\n",
      "The following objects are masked from ‘package:stats’:\n",
      "\n",
      "    filter, lag\n",
      "\n",
      "The following objects are masked from ‘package:base’:\n",
      "\n",
      "    intersect, setdiff, setequal, union\n",
      "\n"
     ]
    }
   ],
   "source": [
    "df <- read.csv(\"American_Community_Survey.csv\")\n",
    "library(dplyr)\n",
    "agricultureLogical <- ifelse(df$ACR == 3 &  df$AGS == 6, TRUE, FALSE)"
   ]
  },
  {
   "cell_type": "code",
   "execution_count": 3,
   "metadata": {},
   "outputs": [
    {
     "data": {
      "text/html": [
       "<table>\n",
       "<caption>A data.frame: 3 × 188</caption>\n",
       "<thead>\n",
       "\t<tr><th></th><th scope=col>RT</th><th scope=col>SERIALNO</th><th scope=col>DIVISION</th><th scope=col>PUMA</th><th scope=col>REGION</th><th scope=col>ST</th><th scope=col>ADJUST</th><th scope=col>WGTP</th><th scope=col>NP</th><th scope=col>TYPE</th><th scope=col>⋯</th><th scope=col>wgtp71</th><th scope=col>wgtp72</th><th scope=col>wgtp73</th><th scope=col>wgtp74</th><th scope=col>wgtp75</th><th scope=col>wgtp76</th><th scope=col>wgtp77</th><th scope=col>wgtp78</th><th scope=col>wgtp79</th><th scope=col>wgtp80</th></tr>\n",
       "\t<tr><th></th><th scope=col>&lt;fct&gt;</th><th scope=col>&lt;int&gt;</th><th scope=col>&lt;int&gt;</th><th scope=col>&lt;int&gt;</th><th scope=col>&lt;int&gt;</th><th scope=col>&lt;int&gt;</th><th scope=col>&lt;int&gt;</th><th scope=col>&lt;int&gt;</th><th scope=col>&lt;int&gt;</th><th scope=col>&lt;int&gt;</th><th scope=col>⋯</th><th scope=col>&lt;int&gt;</th><th scope=col>&lt;int&gt;</th><th scope=col>&lt;int&gt;</th><th scope=col>&lt;int&gt;</th><th scope=col>&lt;int&gt;</th><th scope=col>&lt;int&gt;</th><th scope=col>&lt;int&gt;</th><th scope=col>&lt;int&gt;</th><th scope=col>&lt;int&gt;</th><th scope=col>&lt;int&gt;</th></tr>\n",
       "</thead>\n",
       "<tbody>\n",
       "\t<tr><th scope=row>125</th><td>H</td><td>30346</td><td>8</td><td>400</td><td>4</td><td>16</td><td>1015675</td><td>120</td><td>4</td><td>1</td><td>⋯</td><td> 96</td><td> 29</td><td> 41</td><td>202</td><td>187</td><td> 51</td><td> 83</td><td>158</td><td>42</td><td>112</td></tr>\n",
       "\t<tr><th scope=row>238</th><td>H</td><td>53292</td><td>8</td><td>300</td><td>4</td><td>16</td><td>1015675</td><td> 26</td><td>3</td><td>1</td><td>⋯</td><td> 23</td><td>  8</td><td> 14</td><td>  8</td><td>  8</td><td> 24</td><td> 25</td><td>  8</td><td> 6</td><td>  8</td></tr>\n",
       "\t<tr><th scope=row>262</th><td>H</td><td>56299</td><td>8</td><td>800</td><td>4</td><td>16</td><td>1015675</td><td> 97</td><td>2</td><td>1</td><td>⋯</td><td>141</td><td>176</td><td>126</td><td> 83</td><td> 94</td><td>114</td><td>103</td><td> 33</td><td>33</td><td> 28</td></tr>\n",
       "</tbody>\n",
       "</table>\n"
      ],
      "text/latex": [
       "A data.frame: 3 × 188\n",
       "\\begin{tabular}{r|llllllllllllllllllllllllllllllllllllllllllllllllllllllllllllllllllllllllllllllllllllllllllllllllllllllllllllllllllllllllllllllllllllllllllllllllllllllllllllllllllllllllllllllllllllllllllll}\n",
       "  & RT & SERIALNO & DIVISION & PUMA & REGION & ST & ADJUST & WGTP & NP & TYPE & ACR & AGS & BDS & BLD & BUS & CONP & ELEP & FS & FULP & GASP & HFL & INSP & KIT & MHP & MRGI & MRGP & MRGT & MRGX & PLM & RMS & RNTM & RNTP & SMP & TEL & TEN & VACS & VAL & VEH & WATP & YBL & FES & FINCP & FPARC & GRNTP & GRPIP & HHL & HHT & HINCP & HUGCL & HUPAC & HUPAOC & HUPARC & LNGI & MV & NOC & NPF & NPP & NR & NRC & OCPIP & PARTNER & PSF & R18 & R60 & R65 & RESMODE & SMOCP & SMX & SRNT & SVAL & TAXP & WIF & WKEXREL & WORKSTAT & FACRP & FAGSP & FBDSP & FBLDP & FBUSP & FCONP & FELEP & FFSP & FFULP & FGASP & FHFLP & FINSP & FKITP & FMHP & FMRGIP & FMRGP & FMRGTP & FMRGXP & FMVYP & FPLMP & FRMSP & FRNTMP & FRNTP & FSMP & FSMXHP & FSMXSP & FTAXP & FTELP & FTENP & FVACSP & FVALP & FVEHP & FWATP & FYBLP & wgtp1 & wgtp2 & wgtp3 & wgtp4 & wgtp5 & wgtp6 & wgtp7 & wgtp8 & wgtp9 & wgtp10 & wgtp11 & wgtp12 & wgtp13 & wgtp14 & wgtp15 & wgtp16 & wgtp17 & wgtp18 & wgtp19 & wgtp20 & wgtp21 & wgtp22 & wgtp23 & wgtp24 & wgtp25 & wgtp26 & wgtp27 & wgtp28 & wgtp29 & wgtp30 & wgtp31 & wgtp32 & wgtp33 & wgtp34 & wgtp35 & wgtp36 & wgtp37 & wgtp38 & wgtp39 & wgtp40 & wgtp41 & wgtp42 & wgtp43 & wgtp44 & wgtp45 & wgtp46 & wgtp47 & wgtp48 & wgtp49 & wgtp50 & wgtp51 & wgtp52 & wgtp53 & wgtp54 & wgtp55 & wgtp56 & wgtp57 & wgtp58 & wgtp59 & wgtp60 & wgtp61 & wgtp62 & wgtp63 & wgtp64 & wgtp65 & wgtp66 & wgtp67 & wgtp68 & wgtp69 & wgtp70 & wgtp71 & wgtp72 & wgtp73 & wgtp74 & wgtp75 & wgtp76 & wgtp77 & wgtp78 & wgtp79 & wgtp80\\\\\n",
       "  & <fct> & <int> & <int> & <int> & <int> & <int> & <int> & <int> & <int> & <int> & <int> & <int> & <int> & <int> & <int> & <int> & <int> & <int> & <int> & <int> & <int> & <int> & <int> & <int> & <int> & <int> & <int> & <int> & <int> & <int> & <int> & <int> & <int> & <int> & <int> & <int> & <int> & <int> & <int> & <int> & <int> & <int> & <int> & <int> & <int> & <int> & <int> & <int> & <int> & <int> & <int> & <int> & <int> & <int> & <int> & <int> & <int> & <int> & <int> & <int> & <int> & <int> & <int> & <int> & <int> & <int> & <int> & <int> & <int> & <int> & <int> & <int> & <int> & <int> & <int> & <int> & <int> & <int> & <int> & <int> & <int> & <int> & <int> & <int> & <int> & <int> & <int> & <int> & <int> & <int> & <int> & <int> & <int> & <int> & <int> & <int> & <int> & <int> & <int> & <int> & <int> & <int> & <int> & <int> & <int> & <int> & <int> & <int> & <int> & <int> & <int> & <int> & <int> & <int> & <int> & <int> & <int> & <int> & <int> & <int> & <int> & <int> & <int> & <int> & <int> & <int> & <int> & <int> & <int> & <int> & <int> & <int> & <int> & <int> & <int> & <int> & <int> & <int> & <int> & <int> & <int> & <int> & <int> & <int> & <int> & <int> & <int> & <int> & <int> & <int> & <int> & <int> & <int> & <int> & <int> & <int> & <int> & <int> & <int> & <int> & <int> & <int> & <int> & <int> & <int> & <int> & <int> & <int> & <int> & <int> & <int> & <int> & <int> & <int> & <int> & <int> & <int> & <int> & <int> & <int> & <int> & <int> & <int> & <int> & <int> & <int> & <int> & <int>\\\\\n",
       "\\hline\n",
       "\t125 & H & 30346 & 8 & 400 & 4 & 16 & 1015675 & 120 & 4 & 1 & 3 & 6 & 3 & 2 & 2 & NA & 150 & 0 &    2 &   3 & 3 &  600 & 1 & NA &  1 & 1400 &  1 &  1 & 1 & 5 & NA & NA & NA & 1 & 1 & NA & 20 & 2 &   2 & 3 & 1 &  62600 & 2 & NA & NA & 3 & 1 &  62600 & 0 & 2 & 2 & 2 & 1 & 1 & 2 & 4 & 0 & 0 & 2 & 30 & 0 & 0 & 1 & 0 & 0 & 1 & 1550 &  3 & 0 & 0 & 24 & 2 & 1 & 1 & 0 & 0 & 0 & 0 & 0 & 0 & 0 & 0 & 0 & 0 & 0 & 0 & 0 & 0 & 0 & 0 & 0 & 0 & 0 & 0 & 1 & 0 & 0 & 0 & 0 & 0 & 0 & 0 & 0 & 0 & 0 & 0 & 0 & 0 &  40 & 137 & 142 & 226 & 155 & 115 & 96 & 130 & 160 & 151 & 89 & 46 &  33 & 185 & 200 & 31 & 114 & 303 &  59 & 167 & 179 & 160 & 143 & 25 & 135 & 95 &  97 &  95 &  26 & 100 & 110 & 254 & 244 & 33 & 37 & 239 &  75 &  26 & 284 &  98 & 195 & 121 & 126 & 42 & 180 & 130 &  93 & 152 & 35 & 128 &  76 & 231 & 202 &  41 & 32 & 166 & 148 & 46 & 210 & 142 & 34 & 225 & 168 & 126 & 119 & 100 & 124 & 150 & 129 & 116 &  96 &  29 &  41 & 202 & 187 &  51 &  83 & 158 & 42 & 112\\\\\n",
       "\t238 & H & 53292 & 8 & 300 & 4 & 16 & 1015675 &  26 & 3 & 1 & 3 & 6 & 2 & 3 & 2 & NA & 120 & 0 & 1000 &   3 & 6 & 1500 & 1 & NA &  2 & 1400 &  2 &  1 & 1 & 4 & NA & NA & NA & 1 & 1 & NA & 11 & 3 & 100 & 5 & 1 & 120000 & 2 & NA & NA & 1 & 1 & 120000 & 0 & 2 & 2 & 2 & 1 & 6 & 1 & 3 & 0 & 0 & 1 & 18 & 0 & 0 & 1 & 0 & 0 & 1 & 1819 &  3 & 0 & 0 & 22 & 2 & 1 & 1 & 0 & 0 & 0 & 0 & 0 & 0 & 0 & 0 & 0 & 0 & 0 & 0 & 0 & 0 & 0 & 0 & 0 & 0 & 0 & 0 & 0 & 0 & 0 & 0 & 0 & 0 & 0 & 0 & 0 & 0 & 0 & 0 & 0 & 0 &   7 &  32 &  31 &   8 &   7 &   9 & 10 &  29 &   7 &  24 &  8 & 31 &  26 &  32 &  28 &  8 &   9 &  24 &  25 &  32 &  21 &  48 &  42 & 26 &  27 & 21 &  28 &  42 &  26 &  51 &  28 &  50 &  47 & 45 & 48 &  30 &  24 &  49 &  51 &  45 &  36 &  24 &  27 & 50 &  42 &  56 &  56 &  35 & 44 &  23 &  45 &  26 &  22 &  25 & 28 &  52 &  52 & 32 &  31 &  22 & 23 &   6 &   9 &  26 &  23 &  30 &  34 &  10 &  21 &   6 &  23 &   8 &  14 &   8 &   8 &  24 &  25 &   8 &  6 &   8\\\\\n",
       "\t262 & H & 56299 & 8 & 800 & 4 & 16 & 1015675 &  97 & 2 & 1 & 3 & 6 & 2 & 2 & 2 & NA &  80 & 0 &    2 & 110 & 1 &   NA & 1 & NA & NA &   NA & NA & NA & 1 & 5 & NA & NA & NA & 1 & 4 & NA & NA & 2 &   2 & 9 & 2 &  23200 & 4 & NA & NA & 1 & 1 &  23200 & 0 & 4 & 4 & 4 & 1 & 4 & 0 & 2 & 0 & 0 & 0 & NA & 0 & 0 & 0 & 2 & 0 & 2 &   NA & NA & 0 & 0 & NA & 1 & 3 & 3 & 0 & 1 & 0 & 0 & 0 & 0 & 0 & 0 & 0 & 0 & 0 & 0 & 0 & 0 & 0 & 0 & 0 & 0 & 0 & 0 & 0 & 0 & 0 & 0 & 0 & 0 & 0 & 0 & 0 & 0 & 0 & 0 & 0 & 0 & 138 &  96 &  30 & 102 & 213 & 104 & 87 & 160 &  99 &  28 & 23 & 23 & 106 &  81 &  93 & 93 & 104 & 194 & 150 &  26 & 149 & 101 &  29 & 97 & 140 & 84 & 100 & 212 & 120 &  38 &  32 &  29 &  98 & 99 & 99 &  99 & 109 & 162 & 177 & 160 &  29 & 118 & 156 & 96 &  32 &  88 & 109 &  35 & 90 & 195 & 152 & 143 & 119 & 111 & 80 &  93 &  92 & 26 &  29 & 158 & 24 &  96 & 179 &  98 &  27 &  97 & 101 &  22 &  97 & 153 & 141 & 176 & 126 &  83 &  94 & 114 & 103 &  33 & 33 &  28\\\\\n",
       "\\end{tabular}\n"
      ],
      "text/markdown": [
       "\n",
       "A data.frame: 3 × 188\n",
       "\n",
       "| <!--/--> | RT &lt;fct&gt; | SERIALNO &lt;int&gt; | DIVISION &lt;int&gt; | PUMA &lt;int&gt; | REGION &lt;int&gt; | ST &lt;int&gt; | ADJUST &lt;int&gt; | WGTP &lt;int&gt; | NP &lt;int&gt; | TYPE &lt;int&gt; | ⋯ ⋯ | wgtp71 &lt;int&gt; | wgtp72 &lt;int&gt; | wgtp73 &lt;int&gt; | wgtp74 &lt;int&gt; | wgtp75 &lt;int&gt; | wgtp76 &lt;int&gt; | wgtp77 &lt;int&gt; | wgtp78 &lt;int&gt; | wgtp79 &lt;int&gt; | wgtp80 &lt;int&gt; |\n",
       "|---|---|---|---|---|---|---|---|---|---|---|---|---|---|---|---|---|---|---|---|---|---|\n",
       "| 125 | H | 30346 | 8 | 400 | 4 | 16 | 1015675 | 120 | 4 | 1 | ⋯ |  96 |  29 |  41 | 202 | 187 |  51 |  83 | 158 | 42 | 112 |\n",
       "| 238 | H | 53292 | 8 | 300 | 4 | 16 | 1015675 |  26 | 3 | 1 | ⋯ |  23 |   8 |  14 |   8 |   8 |  24 |  25 |   8 |  6 |   8 |\n",
       "| 262 | H | 56299 | 8 | 800 | 4 | 16 | 1015675 |  97 | 2 | 1 | ⋯ | 141 | 176 | 126 |  83 |  94 | 114 | 103 |  33 | 33 |  28 |\n",
       "\n"
      ],
      "text/plain": [
       "    RT SERIALNO DIVISION PUMA REGION ST ADJUST  WGTP NP TYPE ⋯ wgtp71 wgtp72\n",
       "125 H  30346    8        400  4      16 1015675 120  4  1    ⋯  96     29   \n",
       "238 H  53292    8        300  4      16 1015675  26  3  1    ⋯  23      8   \n",
       "262 H  56299    8        800  4      16 1015675  97  2  1    ⋯ 141    176   \n",
       "    wgtp73 wgtp74 wgtp75 wgtp76 wgtp77 wgtp78 wgtp79 wgtp80\n",
       "125  41    202    187     51     83    158    42     112   \n",
       "238  14      8      8     24     25      8     6       8   \n",
       "262 126     83     94    114    103     33    33      28   "
      ]
     },
     "metadata": {},
     "output_type": "display_data"
    }
   ],
   "source": [
    "df[which(agricultureLogical),][1:3,]"
   ]
  },
  {
   "cell_type": "markdown",
   "metadata": {},
   "source": [
    "# 2. Question 2"
   ]
  },
  {
   "cell_type": "markdown",
   "metadata": {},
   "source": [
    "Using the jpeg package read in the following picture of your instructor into R<br>\n",
    "https://d396qusza40orc.cloudfront.net/getdata%2Fjeff.jpg<br>\n",
    "Use the parameter native=TRUE. What are the 30th and 80th quantiles of the resulting data? (some Linux systems may produce an answer 638 different for the 30th quantile)<br><br>\n",
    "- -10904118 -10575416\n",
    "- -14191406 -10904118\n",
    "- -15259150 -10575416 <font color='red'>#Correct</font>\n",
    "- -15259150 -594524 "
   ]
  },
  {
   "cell_type": "code",
   "execution_count": 4,
   "metadata": {},
   "outputs": [
    {
     "data": {
      "text/html": [
       "TRUE"
      ],
      "text/latex": [
       "TRUE"
      ],
      "text/markdown": [
       "TRUE"
      ],
      "text/plain": [
       "[1] TRUE"
      ]
     },
     "metadata": {},
     "output_type": "display_data"
    },
    {
     "data": {
      "text/html": [
       "<dl class=dl-horizontal>\n",
       "\t<dt>30%</dt>\n",
       "\t\t<dd>-15258512</dd>\n",
       "\t<dt>80%</dt>\n",
       "\t\t<dd>-10575416</dd>\n",
       "</dl>\n"
      ],
      "text/latex": [
       "\\begin{description*}\n",
       "\\item[30\\textbackslash{}\\%] -15258512\n",
       "\\item[80\\textbackslash{}\\%] -10575416\n",
       "\\end{description*}\n"
      ],
      "text/markdown": [
       "30%\n",
       ":   -1525851280%\n",
       ":   -10575416\n",
       "\n"
      ],
      "text/plain": [
       "      30%       80% \n",
       "-15258512 -10575416 "
      ]
     },
     "metadata": {},
     "output_type": "display_data"
    }
   ],
   "source": [
    "library(jpeg)\n",
    "myurl <- \"https://d396qusza40orc.cloudfront.net/getdata%2Fjeff.jpg\"\n",
    "z <- tempfile()\n",
    "download.file(myurl,z,mode=\"wb\")\n",
    "pic <- readJPEG(z, native = TRUE)\n",
    "file.remove(z) # cleanup\n",
    "\n",
    "quantile(pic, probs = c(0.3, 0.8))"
   ]
  },
  {
   "cell_type": "markdown",
   "metadata": {},
   "source": [
    "# 3. Question"
   ]
  },
  {
   "cell_type": "markdown",
   "metadata": {},
   "source": [
    "Load the Gross Domestic Product data for the 190 ranked countries in this data set:<br>\n",
    "https://d396qusza40orc.cloudfront.net/getdata%2Fdata%2FGDP.csv<br>\n",
    "Load the educational data from this data set:<br>\n",
    "https://d396qusza40orc.cloudfront.net/getdata%2Fdata%2FEDSTATS_Country.csv<br>\n",
    "Match the data based on the country shortcode. How many of the IDs match? Sort the data frame in descending order by GDP rank (so United States is last). What is the 13th country in the resulting data frame?<br>\n",
    "Original data sources:<br>\n",
    "http://data.worldbank.org/data-catalog/GDP-ranking-table<br>\n",
    "http://data.worldbank.org/data-catalog/ed-stats<br>\n",
    "- 189 matches, 13th country is St. Kitts and Nevis <font color='red'># Correct</font>\n",
    "- 190 matches, 13th country is St. Kitts and Nevis\n",
    "- 234 matches, 13th country is St. Kitts and Nevis\n",
    "- 190 matches, 13th country is Spain\n",
    "- 234 matches, 13th country is Spain\n",
    "- 189 matches, 13th country is Spain"
   ]
  },
  {
   "cell_type": "code",
   "execution_count": 5,
   "metadata": {},
   "outputs": [
    {
     "data": {
      "text/html": [
       "189"
      ],
      "text/latex": [
       "189"
      ],
      "text/markdown": [
       "189"
      ],
      "text/plain": [
       "[1] 189"
      ]
     },
     "metadata": {},
     "output_type": "display_data"
    },
    {
     "data": {
      "text/html": [
       "<table>\n",
       "<caption>A data.frame: 1 × 1</caption>\n",
       "<thead>\n",
       "\t<tr><th></th><th scope=col>CountryCode</th></tr>\n",
       "\t<tr><th></th><th scope=col>&lt;fct&gt;</th></tr>\n",
       "</thead>\n",
       "<tbody>\n",
       "\t<tr><th scope=row>13</th><td>KNA</td></tr>\n",
       "</tbody>\n",
       "</table>\n"
      ],
      "text/latex": [
       "A data.frame: 1 × 1\n",
       "\\begin{tabular}{r|l}\n",
       "  & CountryCode\\\\\n",
       "  & <fct>\\\\\n",
       "\\hline\n",
       "\t13 & KNA\\\\\n",
       "\\end{tabular}\n"
      ],
      "text/markdown": [
       "\n",
       "A data.frame: 1 × 1\n",
       "\n",
       "| <!--/--> | CountryCode &lt;fct&gt; |\n",
       "|---|---|\n",
       "| 13 | KNA |\n",
       "\n"
      ],
      "text/plain": [
       "   CountryCode\n",
       "13 KNA        "
      ]
     },
     "metadata": {},
     "output_type": "display_data"
    }
   ],
   "source": [
    "library(dplyr)\n",
    "Gross_Domestic_Product = read.csv(\"https://d396qusza40orc.cloudfront.net/getdata%2Fdata%2FGDP.csv\", skip=3)\n",
    "Gross_Domestic_Product <- Gross_Domestic_Product[-c(1,192:327),]\n",
    "Gross_Domestic_Product$Ranking <- as.numeric(as.numeric_version(Gross_Domestic_Product$Ranking))\n",
    "Gross_Domestic_Product <- Gross_Domestic_Product[,c(1,2,4,5,6)]\n",
    "colnames(Gross_Domestic_Product)[1] <- \"CountryCode\"\n",
    "\n",
    "\n",
    "educational = read.csv(\"https://d396qusza40orc.cloudfront.net/getdata%2Fdata%2FEDSTATS_Country.csv\")\n",
    "\n",
    "merged_df <- merge(Gross_Domestic_Product, educational, by = \"CountryCode\")\n",
    "\n",
    "length(merged_df$CountryCode)\n",
    "\n",
    "merged_df = arrange(merged_df, desc(Ranking))\n",
    "merged_df[13,]['CountryCode']"
   ]
  },
  {
   "cell_type": "markdown",
   "metadata": {},
   "source": [
    "# 4. Question"
   ]
  },
  {
   "cell_type": "markdown",
   "metadata": {},
   "source": [
    "# What is the average GDP ranking for the \"High income: OECD\" and \"High income: nonOECD\" group?\n",
    "- 23.966667, 30.91304<br>\n",
    "- 23, 30<br>\n",
    "- 30, 37<br>\n",
    "- 23, 45<br>\n",
    "- 133.72973, 32.96667<br>\n",
    "- 32.96667, 91.91304"
   ]
  },
  {
   "cell_type": "code",
   "execution_count": 6,
   "metadata": {},
   "outputs": [
    {
     "data": {
      "text/html": [
       "<table>\n",
       "<caption>A tibble: 5 × 2</caption>\n",
       "<thead>\n",
       "\t<tr><th scope=col>Income.Group</th><th scope=col>mean(Ranking, na.rm = T)</th></tr>\n",
       "\t<tr><th scope=col>&lt;fct&gt;</th><th scope=col>&lt;dbl&gt;</th></tr>\n",
       "</thead>\n",
       "<tbody>\n",
       "\t<tr><td>High income: nonOECD</td><td> 91.91304</td></tr>\n",
       "\t<tr><td>High income: OECD   </td><td> 32.96667</td></tr>\n",
       "\t<tr><td>Low income          </td><td>133.72973</td></tr>\n",
       "\t<tr><td>Lower middle income </td><td>107.70370</td></tr>\n",
       "\t<tr><td>Upper middle income </td><td> 92.13333</td></tr>\n",
       "</tbody>\n",
       "</table>\n"
      ],
      "text/latex": [
       "A tibble: 5 × 2\n",
       "\\begin{tabular}{r|ll}\n",
       " Income.Group & mean(Ranking, na.rm = T)\\\\\n",
       " <fct> & <dbl>\\\\\n",
       "\\hline\n",
       "\t High income: nonOECD &  91.91304\\\\\n",
       "\t High income: OECD    &  32.96667\\\\\n",
       "\t Low income           & 133.72973\\\\\n",
       "\t Lower middle income  & 107.70370\\\\\n",
       "\t Upper middle income  &  92.13333\\\\\n",
       "\\end{tabular}\n"
      ],
      "text/markdown": [
       "\n",
       "A tibble: 5 × 2\n",
       "\n",
       "| Income.Group &lt;fct&gt; | mean(Ranking, na.rm = T) &lt;dbl&gt; |\n",
       "|---|---|\n",
       "| High income: nonOECD |  91.91304 |\n",
       "| High income: OECD    |  32.96667 |\n",
       "| Low income           | 133.72973 |\n",
       "| Lower middle income  | 107.70370 |\n",
       "| Upper middle income  |  92.13333 |\n",
       "\n"
      ],
      "text/plain": [
       "  Income.Group         mean(Ranking, na.rm = T)\n",
       "1 High income: nonOECD  91.91304               \n",
       "2 High income: OECD     32.96667               \n",
       "3 Low income           133.72973               \n",
       "4 Lower middle income  107.70370               \n",
       "5 Upper middle income   92.13333               "
      ]
     },
     "metadata": {},
     "output_type": "display_data"
    }
   ],
   "source": [
    "merged_df %>% \n",
    "  select(Ranking, Income.Group) %>% \n",
    "  group_by(Income.Group) %>% \n",
    "  summarise(mean(Ranking, na.rm = T))"
   ]
  },
  {
   "cell_type": "markdown",
   "metadata": {},
   "source": [
    "# 5. Question"
   ]
  },
  {
   "cell_type": "markdown",
   "metadata": {},
   "source": [
    "Cut the GDP ranking into 5 separate quantile groups. Make a table versus Income.Group. How many countries\n",
    "are Lower middle income but among the 38 nations with highest GDP?\n",
    "- 5 <font color='red'># Correct </font>\n",
    "- 0\n",
    "- 13\n",
    "- 12"
   ]
  },
  {
   "cell_type": "code",
   "execution_count": 7,
   "metadata": {},
   "outputs": [
    {
     "data": {
      "text/html": [
       "5"
      ],
      "text/latex": [
       "5"
      ],
      "text/markdown": [
       "5"
      ],
      "text/plain": [
       "[1] 5"
      ]
     },
     "metadata": {},
     "output_type": "display_data"
    }
   ],
   "source": [
    "merged_df$quantile <- with(merged_df, cut(Ranking, \n",
    "                    breaks=quantile(Ranking, probs=seq(0,1, by=0.2), na.rm=TRUE), \n",
    "                    include.lowest=TRUE, labels=c(\"Q1\",\"Q2\",\"Q3\",\"Q4\", \"Q5\")))\n",
    "\n",
    "table(merged_df$Income.Group, merged_df$quantile)[\"Lower middle income\", \"Q1\"]"
   ]
  }
 ],
 "metadata": {
  "kernelspec": {
   "display_name": "R",
   "language": "R",
   "name": "ir"
  },
  "language_info": {
   "codemirror_mode": "r",
   "file_extension": ".r",
   "mimetype": "text/x-r-source",
   "name": "R",
   "pygments_lexer": "r",
   "version": "3.5.2"
  }
 },
 "nbformat": 4,
 "nbformat_minor": 2
}
