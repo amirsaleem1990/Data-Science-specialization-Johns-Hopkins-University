{
 "cells": [
  {
   "cell_type": "markdown",
   "metadata": {},
   "source": [
    "[link](https://www.coursera.org/learn/data-cleaning/exam/k2arZ/week-1-quiz)"
   ]
  },
  {
   "cell_type": "markdown",
   "metadata": {},
   "source": [
    "## The American Community Survey distributes downloadable data about United States communities. Download the 2006 microdata survey about housing for the state of Idaho using download.file() from here:\n",
    "#### https://d396qusza40orc.cloudfront.net/getdata%2Fdata%2Fss06hid.csv\n",
    "#### and load the data into R. The code book, describing the variable names is here:\n",
    "#### https://d396qusza40orc.cloudfront.net/getdata%2Fdata%2FPUMSDataDict06.pdf\n",
    "#### How many properties are worth $1,000,000 or more?"
   ]
  },
  {
   "cell_type": "code",
   "execution_count": 15,
   "metadata": {},
   "outputs": [],
   "source": [
    "url <- \"https://d396qusza40orc.cloudfront.net/getdata%2Fdata%2Fss06hid.csv\"\n",
    "download.file(url, dest=\"./housing.csv\")\n",
    "housing <- read.csv(\"housing.csv\")"
   ]
  },
  {
   "cell_type": "code",
   "execution_count": 20,
   "metadata": {},
   "outputs": [
    {
     "data": {
      "text/html": [
       "53"
      ],
      "text/latex": [
       "53"
      ],
      "text/markdown": [
       "53"
      ],
      "text/plain": [
       "[1] 53"
      ]
     },
     "metadata": {},
     "output_type": "display_data"
    }
   ],
   "source": [
    "sum(housing$VAL == 24, na.rm=TRUE)"
   ]
  },
  {
   "cell_type": "markdown",
   "metadata": {},
   "source": [
    "# Use the data you loaded from Question 1. Consider the variable FES in the code book. Which of the \"tidy data\" principles does this variable violate?\n",
    "- Tidy data has variable values that are internally consistent.\n",
    "- Each variable in a tidy data set has been transformed to be interpretable.\n",
    "- Tidy data has one variable per column. <font color='red'>Correct</font>\n",
    "- Numeric values in tidy data can not represent categories. "
   ]
  },
  {
   "cell_type": "markdown",
   "metadata": {},
   "source": [
    "# Download the Excel spreadsheet on Natural Gas Aquisition Program here:\n",
    "####  https://d396qusza40orc.cloudfront.net/getdata%2Fdata%2FDATA.gov_NGAP.xlsx\n",
    "#### Read rows 18-23 and columns 7-15 into R and assign the result to a variable called: <font color='red'>**dat**</font>"
   ]
  },
  {
   "cell_type": "code",
   "execution_count": 23,
   "metadata": {},
   "outputs": [],
   "source": [
    "url <- \"https://d396qusza40orc.cloudfront.net/getdata%2Fdata%2FDATA.gov_NGAP.xlsx\"\n",
    "download.file(url, destfile = \"./NGS.xlsx\")"
   ]
  },
  {
   "cell_type": "code",
   "execution_count": 55,
   "metadata": {},
   "outputs": [
    {
     "data": {
      "text/html": [
       "<table>\n",
       "<caption>A data.frame: 5 × 9</caption>\n",
       "<thead>\n",
       "\t<tr><th scope=col>Zip</th><th scope=col>CuCurrent</th><th scope=col>PaCurrent</th><th scope=col>PoCurrent</th><th scope=col>Contact</th><th scope=col>Ext</th><th scope=col>Fax</th><th scope=col>email</th><th scope=col>Status</th></tr>\n",
       "\t<tr><th scope=col>&lt;dbl&gt;</th><th scope=col>&lt;dbl&gt;</th><th scope=col>&lt;dbl&gt;</th><th scope=col>&lt;dbl&gt;</th><th scope=col>&lt;fct&gt;</th><th scope=col>&lt;dbl&gt;</th><th scope=col>&lt;fct&gt;</th><th scope=col>&lt;lgl&gt;</th><th scope=col>&lt;dbl&gt;</th></tr>\n",
       "</thead>\n",
       "<tbody>\n",
       "\t<tr><td>74136</td><td>0</td><td>1</td><td>0</td><td>918-491-6998</td><td>  0</td><td>918-491-6659</td><td>NA</td><td>1</td></tr>\n",
       "\t<tr><td>30329</td><td>1</td><td>0</td><td>0</td><td>404-321-5711</td><td> NA</td><td>NA          </td><td>NA</td><td>1</td></tr>\n",
       "\t<tr><td>74136</td><td>1</td><td>0</td><td>0</td><td>918-523-2516</td><td>  0</td><td>918-523-2522</td><td>NA</td><td>1</td></tr>\n",
       "\t<tr><td>80203</td><td>0</td><td>1</td><td>0</td><td>303-864-1919</td><td>  0</td><td>NA          </td><td>NA</td><td>1</td></tr>\n",
       "\t<tr><td>80120</td><td>1</td><td>0</td><td>0</td><td>345-098-8890</td><td>456</td><td>NA          </td><td>NA</td><td>1</td></tr>\n",
       "</tbody>\n",
       "</table>\n"
      ],
      "text/latex": [
       "A data.frame: 5 × 9\n",
       "\\begin{tabular}{r|lllllllll}\n",
       " Zip & CuCurrent & PaCurrent & PoCurrent & Contact & Ext & Fax & email & Status\\\\\n",
       " <dbl> & <dbl> & <dbl> & <dbl> & <fct> & <dbl> & <fct> & <lgl> & <dbl>\\\\\n",
       "\\hline\n",
       "\t 74136 & 0 & 1 & 0 & 918-491-6998 &   0 & 918-491-6659 & NA & 1\\\\\n",
       "\t 30329 & 1 & 0 & 0 & 404-321-5711 &  NA & NA           & NA & 1\\\\\n",
       "\t 74136 & 1 & 0 & 0 & 918-523-2516 &   0 & 918-523-2522 & NA & 1\\\\\n",
       "\t 80203 & 0 & 1 & 0 & 303-864-1919 &   0 & NA           & NA & 1\\\\\n",
       "\t 80120 & 1 & 0 & 0 & 345-098-8890 & 456 & NA           & NA & 1\\\\\n",
       "\\end{tabular}\n"
      ],
      "text/markdown": [
       "\n",
       "A data.frame: 5 × 9\n",
       "\n",
       "| Zip &lt;dbl&gt; | CuCurrent &lt;dbl&gt; | PaCurrent &lt;dbl&gt; | PoCurrent &lt;dbl&gt; | Contact &lt;fct&gt; | Ext &lt;dbl&gt; | Fax &lt;fct&gt; | email &lt;lgl&gt; | Status &lt;dbl&gt; |\n",
       "|---|---|---|---|---|---|---|---|---|\n",
       "| 74136 | 0 | 1 | 0 | 918-491-6998 |   0 | 918-491-6659 | NA | 1 |\n",
       "| 30329 | 1 | 0 | 0 | 404-321-5711 |  NA | NA           | NA | 1 |\n",
       "| 74136 | 1 | 0 | 0 | 918-523-2516 |   0 | 918-523-2522 | NA | 1 |\n",
       "| 80203 | 0 | 1 | 0 | 303-864-1919 |   0 | NA           | NA | 1 |\n",
       "| 80120 | 1 | 0 | 0 | 345-098-8890 | 456 | NA           | NA | 1 |\n",
       "\n"
      ],
      "text/plain": [
       "  Zip   CuCurrent PaCurrent PoCurrent Contact      Ext Fax          email\n",
       "1 74136 0         1         0         918-491-6998   0 918-491-6659 NA   \n",
       "2 30329 1         0         0         404-321-5711  NA NA           NA   \n",
       "3 74136 1         0         0         918-523-2516   0 918-523-2522 NA   \n",
       "4 80203 0         1         0         303-864-1919   0 NA           NA   \n",
       "5 80120 1         0         0         345-098-8890 456 NA           NA   \n",
       "  Status\n",
       "1 1     \n",
       "2 1     \n",
       "3 1     \n",
       "4 1     \n",
       "5 1     "
      ]
     },
     "metadata": {},
     "output_type": "display_data"
    }
   ],
   "source": [
    "library(xlsx)\n",
    "rows <- 18:23\n",
    "cols <- 7:15\n",
    "dat <- read.xlsx(\"NGS.xlsx\", sheetIndex = 1, rowIndex = rows, colIndex = cols)\n",
    "head(dat)"
   ]
  },
  {
   "cell_type": "code",
   "execution_count": 56,
   "metadata": {},
   "outputs": [
    {
     "data": {
      "text/html": [
       "36534720"
      ],
      "text/latex": [
       "36534720"
      ],
      "text/markdown": [
       "36534720"
      ],
      "text/plain": [
       "[1] 36534720"
      ]
     },
     "metadata": {},
     "output_type": "display_data"
    }
   ],
   "source": [
    "sum(dat$Zip*dat$Ext,na.rm=T)"
   ]
  },
  {
   "cell_type": "markdown",
   "metadata": {},
   "source": [
    "# Read the XML data on Baltimore restaurants from here:\n",
    "### https://d396qusza40orc.cloudfront.net/getdata%2Fdata%2Frestaurants.xml\n",
    "### How many restaurants have zipcode 21231?\n",
    "- 181\n",
    "- 127\n",
    "- 100\n",
    "- 17"
   ]
  },
  {
   "cell_type": "code",
   "execution_count": 65,
   "metadata": {},
   "outputs": [
    {
     "ename": "ERROR",
     "evalue": "Error: XML content does not seem to be XML: 'https://d396qusza40orc.cloudfront.net/getdata%2Fdata%2Frestaurants.xml'\n",
     "output_type": "error",
     "traceback": [
      "Error: XML content does not seem to be XML: 'https://d396qusza40orc.cloudfront.net/getdata%2Fdata%2Frestaurants.xml'\nTraceback:\n",
      "1. xmlTreeParse(url, useInternalNodes = TRUE)"
     ]
    }
   ],
   "source": [
    "library(XML)\n",
    "url <- \"https://d396qusza40orc.cloudfront.net/getdata%2Fdata%2Frestaurants.xml\"\n",
    "doc <- xmlTreeParse(url, useInternalNodes = TRUE)\n",
    "# rootNode <- xmlRoot(doc)\n",
    "# xmlName(rootNode)"
   ]
  },
  {
   "cell_type": "code",
   "execution_count": 66,
   "metadata": {},
   "outputs": [
    {
     "ename": "ERROR",
     "evalue": "Error: XML content does not seem to be XML: 'https://d396qusza40orc.cloudfront.net/getdata%2Fdata%2Frestaurants.xml'\n",
     "output_type": "error",
     "traceback": [
      "Error: XML content does not seem to be XML: 'https://d396qusza40orc.cloudfront.net/getdata%2Fdata%2Frestaurants.xml'\nTraceback:\n",
      "1. xmlTreeParse(url)"
     ]
    }
   ],
   "source": [
    "xmlTreeParse(url)"
   ]
  },
  {
   "cell_type": "code",
   "execution_count": null,
   "metadata": {},
   "outputs": [],
   "source": []
  }
 ],
 "metadata": {
  "kernelspec": {
   "display_name": "R",
   "language": "R",
   "name": "ir"
  },
  "language_info": {
   "codemirror_mode": "r",
   "file_extension": ".r",
   "mimetype": "text/x-r-source",
   "name": "R",
   "pygments_lexer": "r",
   "version": "3.6.0"
  }
 },
 "nbformat": 4,
 "nbformat_minor": 2
}
