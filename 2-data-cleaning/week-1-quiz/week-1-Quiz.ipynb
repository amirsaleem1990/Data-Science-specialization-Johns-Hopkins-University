{
 "cells": [
  {
   "cell_type": "markdown",
   "metadata": {},
   "source": [
    "[link](https://www.coursera.org/learn/data-cleaning/exam/k2arZ/week-1-quiz)"
   ]
  },
  {
   "cell_type": "markdown",
   "metadata": {},
   "source": [
    "## The American Community Survey distributes downloadable data about United States communities. Download the 2006 microdata survey about housing for the state of Idaho using download.file() from here:\n",
    "#### https://d396qusza40orc.cloudfront.net/getdata%2Fdata%2Fss06hid.csv\n",
    "#### and load the data into R. The code book, describing the variable names is here:\n",
    "#### https://d396qusza40orc.cloudfront.net/getdata%2Fdata%2FPUMSDataDict06.pdf\n",
    "#### How many properties are worth $1,000,000 or more?"
   ]
  },
  {
   "cell_type": "code",
   "execution_count": 3,
   "metadata": {},
   "outputs": [
    {
     "name": "stderr",
     "output_type": "stream",
     "text": [
      "Warning message in download.file(url, dest = \".\"):\n",
      "“URL https://d396qusza40orc.cloudfront.net/getdata%2Fdata%2Fss06hid.csv: cannot open destfile '.', reason 'Is a directory'”Warning message in download.file(url, dest = \".\"):\n",
      "“download had nonzero exit status”"
     ]
    }
   ],
   "source": [
    "url <- \"https://d396qusza40orc.cloudfront.net/getdata%2Fdata%2Fss06hid.csv\"\n",
    "download.file(url, dest=\".\")"
   ]
  },
  {
   "cell_type": "code",
   "execution_count": null,
   "metadata": {},
   "outputs": [],
   "source": []
  }
 ],
 "metadata": {
  "kernelspec": {
   "display_name": "R",
   "language": "R",
   "name": "ir"
  },
  "language_info": {
   "codemirror_mode": "r",
   "file_extension": ".r",
   "mimetype": "text/x-r-source",
   "name": "R",
   "pygments_lexer": "r",
   "version": "3.6.0"
  }
 },
 "nbformat": 4,
 "nbformat_minor": 2
}
