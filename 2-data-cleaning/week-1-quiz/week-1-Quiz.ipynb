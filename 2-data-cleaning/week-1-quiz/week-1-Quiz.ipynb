{
 "cells": [
  {
   "cell_type": "markdown",
   "metadata": {},
   "source": [
    "[link](https://www.coursera.org/learn/data-cleaning/exam/k2arZ/week-1-quiz)"
   ]
  },
  {
   "cell_type": "markdown",
   "metadata": {},
   "source": [
    "## The American Community Survey distributes downloadable data about United States communities. Download the 2006 microdata survey about housing for the state of Idaho using download.file() from here:\n",
    "#### https://d396qusza40orc.cloudfront.net/getdata%2Fdata%2Fss06hid.csv\n",
    "#### and load the data into R. The code book, describing the variable names is here:\n",
    "#### https://d396qusza40orc.cloudfront.net/getdata%2Fdata%2FPUMSDataDict06.pdf\n",
    "#### How many properties are worth $1,000,000 or more?"
   ]
  },
  {
   "cell_type": "code",
   "execution_count": 15,
   "metadata": {},
   "outputs": [],
   "source": [
    "url <- \"https://d396qusza40orc.cloudfront.net/getdata%2Fdata%2Fss06hid.csv\"\n",
    "download.file(url, dest=\"./housing.csv\")\n",
    "housing <- read.csv(\"housing.csv\")"
   ]
  },
  {
   "cell_type": "code",
   "execution_count": 20,
   "metadata": {},
   "outputs": [
    {
     "data": {
      "text/html": [
       "53"
      ],
      "text/latex": [
       "53"
      ],
      "text/markdown": [
       "53"
      ],
      "text/plain": [
       "[1] 53"
      ]
     },
     "metadata": {},
     "output_type": "display_data"
    }
   ],
   "source": [
    "sum(housing$VAL == 24, na.rm=TRUE)"
   ]
  },
  {
   "cell_type": "markdown",
   "metadata": {},
   "source": [
    "# Use the data you loaded from Question 1. Consider the variable FES in the code book. Which of the \"tidy data\" principles does this variable violate?\n",
    "- Tidy data has variable values that are internally consistent.\n",
    "- Each variable in a tidy data set has been transformed to be interpretable.\n",
    "- Tidy data has one variable per column. <font color='red'>Correct</font>\n",
    "- Numeric values in tidy data can not represent categories. "
   ]
  },
  {
   "cell_type": "markdown",
   "metadata": {},
   "source": [
    "# Download the Excel spreadsheet on Natural Gas Aquisition Program here:\n",
    "####  https://d396qusza40orc.cloudfront.net/getdata%2Fdata%2FDATA.gov_NGAP.xlsx\n",
    "#### Read rows 18-23 and columns 7-15 into R and assign the result to a variable called:"
   ]
  },
  {
   "cell_type": "code",
   "execution_count": 23,
   "metadata": {},
   "outputs": [],
   "source": [
    "url <- \"https://d396qusza40orc.cloudfront.net/getdata%2Fdata%2FDATA.gov_NGAP.xlsx\"\n",
    "download.file(url, destfile = \"./NGS.xlsx\")"
   ]
  },
  {
   "cell_type": "code",
   "execution_count": 43,
   "metadata": {},
   "outputs": [
    {
     "data": {
      "text/html": [
       "<table>\n",
       "<caption>A data.frame: 6 × 9</caption>\n",
       "<thead>\n",
       "\t<tr><th scope=col>X7</th><th scope=col>X8</th><th scope=col>X9</th><th scope=col>X10</th><th scope=col>X11</th><th scope=col>X12</th><th scope=col>X13</th><th scope=col>X14</th><th scope=col>X15</th></tr>\n",
       "\t<tr><th scope=col>&lt;fct&gt;</th><th scope=col>&lt;fct&gt;</th><th scope=col>&lt;fct&gt;</th><th scope=col>&lt;fct&gt;</th><th scope=col>&lt;fct&gt;</th><th scope=col>&lt;fct&gt;</th><th scope=col>&lt;fct&gt;</th><th scope=col>&lt;fct&gt;</th><th scope=col>&lt;fct&gt;</th></tr>\n",
       "</thead>\n",
       "<tbody>\n",
       "\t<tr><td>Zip  </td><td>CuCurrent</td><td>PaCurrent</td><td>PoCurrent</td><td>Contact     </td><td>Ext</td><td>Fax         </td><td>email</td><td>Status</td></tr>\n",
       "\t<tr><td>74136</td><td>0        </td><td>1        </td><td>0        </td><td>918-491-6998</td><td>0  </td><td>918-491-6659</td><td>NA   </td><td>1     </td></tr>\n",
       "\t<tr><td>30329</td><td>1        </td><td>0        </td><td>0        </td><td>404-321-5711</td><td>NA </td><td>NA          </td><td>NA   </td><td>1     </td></tr>\n",
       "\t<tr><td>74136</td><td>1        </td><td>0        </td><td>0        </td><td>918-523-2516</td><td>0  </td><td>918-523-2522</td><td>NA   </td><td>1     </td></tr>\n",
       "\t<tr><td>80203</td><td>0        </td><td>1        </td><td>0        </td><td>303-864-1919</td><td>0  </td><td>NA          </td><td>NA   </td><td>1     </td></tr>\n",
       "\t<tr><td>80120</td><td>1        </td><td>0        </td><td>0        </td><td>345-098-8890</td><td>456</td><td>NA          </td><td>NA   </td><td>1     </td></tr>\n",
       "</tbody>\n",
       "</table>\n"
      ],
      "text/latex": [
       "A data.frame: 6 × 9\n",
       "\\begin{tabular}{r|lllllllll}\n",
       " X7 & X8 & X9 & X10 & X11 & X12 & X13 & X14 & X15\\\\\n",
       " <fct> & <fct> & <fct> & <fct> & <fct> & <fct> & <fct> & <fct> & <fct>\\\\\n",
       "\\hline\n",
       "\t Zip   & CuCurrent & PaCurrent & PoCurrent & Contact      & Ext & Fax          & email & Status\\\\\n",
       "\t 74136 & 0         & 1         & 0         & 918-491-6998 & 0   & 918-491-6659 & NA    & 1     \\\\\n",
       "\t 30329 & 1         & 0         & 0         & 404-321-5711 & NA  & NA           & NA    & 1     \\\\\n",
       "\t 74136 & 1         & 0         & 0         & 918-523-2516 & 0   & 918-523-2522 & NA    & 1     \\\\\n",
       "\t 80203 & 0         & 1         & 0         & 303-864-1919 & 0   & NA           & NA    & 1     \\\\\n",
       "\t 80120 & 1         & 0         & 0         & 345-098-8890 & 456 & NA           & NA    & 1     \\\\\n",
       "\\end{tabular}\n"
      ],
      "text/markdown": [
       "\n",
       "A data.frame: 6 × 9\n",
       "\n",
       "| X7 &lt;fct&gt; | X8 &lt;fct&gt; | X9 &lt;fct&gt; | X10 &lt;fct&gt; | X11 &lt;fct&gt; | X12 &lt;fct&gt; | X13 &lt;fct&gt; | X14 &lt;fct&gt; | X15 &lt;fct&gt; |\n",
       "|---|---|---|---|---|---|---|---|---|\n",
       "| Zip   | CuCurrent | PaCurrent | PoCurrent | Contact      | Ext | Fax          | email | Status |\n",
       "| 74136 | 0         | 1         | 0         | 918-491-6998 | 0   | 918-491-6659 | NA    | 1      |\n",
       "| 30329 | 1         | 0         | 0         | 404-321-5711 | NA  | NA           | NA    | 1      |\n",
       "| 74136 | 1         | 0         | 0         | 918-523-2516 | 0   | 918-523-2522 | NA    | 1      |\n",
       "| 80203 | 0         | 1         | 0         | 303-864-1919 | 0   | NA           | NA    | 1      |\n",
       "| 80120 | 1         | 0         | 0         | 345-098-8890 | 456 | NA           | NA    | 1      |\n",
       "\n"
      ],
      "text/plain": [
       "  X7    X8        X9        X10       X11          X12 X13          X14  \n",
       "1 Zip   CuCurrent PaCurrent PoCurrent Contact      Ext Fax          email\n",
       "2 74136 0         1         0         918-491-6998 0   918-491-6659 NA   \n",
       "3 30329 1         0         0         404-321-5711 NA  NA           NA   \n",
       "4 74136 1         0         0         918-523-2516 0   918-523-2522 NA   \n",
       "5 80203 0         1         0         303-864-1919 0   NA           NA   \n",
       "6 80120 1         0         0         345-098-8890 456 NA           NA   \n",
       "  X15   \n",
       "1 Status\n",
       "2 1     \n",
       "3 1     \n",
       "4 1     \n",
       "5 1     \n",
       "6 1     "
      ]
     },
     "metadata": {},
     "output_type": "display_data"
    }
   ],
   "source": [
    "library(xlsx)\n",
    "rows <- 18:23\n",
    "cols <- 7:15\n",
    "dat <- read.xlsx(\"NGS.xlsx\", sheetIndex = 1, header=F, rowIndex = rows, colIndex = cols)\n",
    "names(dat) <- \n",
    "head(dat)"
   ]
  },
  {
   "cell_type": "code",
   "execution_count": 44,
   "metadata": {},
   "outputs": [
    {
     "data": {
      "text/html": [
       "0"
      ],
      "text/latex": [
       "0"
      ],
      "text/markdown": [
       "0"
      ],
      "text/plain": [
       "[1] 0"
      ]
     },
     "metadata": {},
     "output_type": "display_data"
    }
   ],
   "source": [
    "sum(dat$Zip*dat$Ext,na.rm=T)"
   ]
  },
  {
   "cell_type": "code",
   "execution_count": 45,
   "metadata": {},
   "outputs": [
    {
     "data": {
      "text/html": [
       "<table>\n",
       "<caption>A data.frame: 1 × 9</caption>\n",
       "<thead>\n",
       "\t<tr><th scope=col>X7</th><th scope=col>X8</th><th scope=col>X9</th><th scope=col>X10</th><th scope=col>X11</th><th scope=col>X12</th><th scope=col>X13</th><th scope=col>X14</th><th scope=col>X15</th></tr>\n",
       "\t<tr><th scope=col>&lt;fct&gt;</th><th scope=col>&lt;fct&gt;</th><th scope=col>&lt;fct&gt;</th><th scope=col>&lt;fct&gt;</th><th scope=col>&lt;fct&gt;</th><th scope=col>&lt;fct&gt;</th><th scope=col>&lt;fct&gt;</th><th scope=col>&lt;fct&gt;</th><th scope=col>&lt;fct&gt;</th></tr>\n",
       "</thead>\n",
       "<tbody>\n",
       "\t<tr><td>Zip</td><td>CuCurrent</td><td>PaCurrent</td><td>PoCurrent</td><td>Contact</td><td>Ext</td><td>Fax</td><td>email</td><td>Status</td></tr>\n",
       "</tbody>\n",
       "</table>\n"
      ],
      "text/latex": [
       "A data.frame: 1 × 9\n",
       "\\begin{tabular}{r|lllllllll}\n",
       " X7 & X8 & X9 & X10 & X11 & X12 & X13 & X14 & X15\\\\\n",
       " <fct> & <fct> & <fct> & <fct> & <fct> & <fct> & <fct> & <fct> & <fct>\\\\\n",
       "\\hline\n",
       "\t Zip & CuCurrent & PaCurrent & PoCurrent & Contact & Ext & Fax & email & Status\\\\\n",
       "\\end{tabular}\n"
      ],
      "text/markdown": [
       "\n",
       "A data.frame: 1 × 9\n",
       "\n",
       "| X7 &lt;fct&gt; | X8 &lt;fct&gt; | X9 &lt;fct&gt; | X10 &lt;fct&gt; | X11 &lt;fct&gt; | X12 &lt;fct&gt; | X13 &lt;fct&gt; | X14 &lt;fct&gt; | X15 &lt;fct&gt; |\n",
       "|---|---|---|---|---|---|---|---|---|\n",
       "| Zip | CuCurrent | PaCurrent | PoCurrent | Contact | Ext | Fax | email | Status |\n",
       "\n"
      ],
      "text/plain": [
       "  X7  X8        X9        X10       X11     X12 X13 X14   X15   \n",
       "1 Zip CuCurrent PaCurrent PoCurrent Contact Ext Fax email Status"
      ]
     },
     "metadata": {},
     "output_type": "display_data"
    }
   ],
   "source": [
    "listdat[1,]"
   ]
  },
  {
   "cell_type": "code",
   "execution_count": null,
   "metadata": {},
   "outputs": [],
   "source": []
  }
 ],
 "metadata": {
  "kernelspec": {
   "display_name": "R",
   "language": "R",
   "name": "ir"
  },
  "language_info": {
   "codemirror_mode": "r",
   "file_extension": ".r",
   "mimetype": "text/x-r-source",
   "name": "R",
   "pygments_lexer": "r",
   "version": "3.6.0"
  }
 },
 "nbformat": 4,
 "nbformat_minor": 2
}
