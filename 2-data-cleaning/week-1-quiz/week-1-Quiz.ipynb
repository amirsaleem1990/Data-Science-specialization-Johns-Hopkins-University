{
 "cells": [
  {
   "cell_type": "markdown",
   "metadata": {},
   "source": [
    "[link](https://www.coursera.org/learn/data-cleaning/exam/k2arZ/week-1-quiz)"
   ]
  },
  {
   "cell_type": "markdown",
   "metadata": {},
   "source": [
    "## The American Community Survey distributes downloadable data about United States communities. Download the 2006 microdata survey about housing for the state of Idaho using download.file() from here:\n",
    "#### https://d396qusza40orc.cloudfront.net/getdata%2Fdata%2Fss06hid.csv\n",
    "#### and load the data into R. The code book, describing the variable names is here:\n",
    "#### https://d396qusza40orc.cloudfront.net/getdata%2Fdata%2FPUMSDataDict06.pdf\n",
    "#### How many properties are worth $1,000,000 or more?"
   ]
  },
  {
   "cell_type": "code",
   "execution_count": 15,
   "metadata": {},
   "outputs": [],
   "source": [
    "url <- \"https://d396qusza40orc.cloudfront.net/getdata%2Fdata%2Fss06hid.csv\"\n",
    "download.file(url, dest=\"./housing.csv\")\n",
    "housing <- read.csv(\"housing.csv\")"
   ]
  },
  {
   "cell_type": "code",
   "execution_count": 20,
   "metadata": {},
   "outputs": [
    {
     "data": {
      "text/html": [
       "53"
      ],
      "text/latex": [
       "53"
      ],
      "text/markdown": [
       "53"
      ],
      "text/plain": [
       "[1] 53"
      ]
     },
     "metadata": {},
     "output_type": "display_data"
    }
   ],
   "source": [
    "sum(housing$VAL == 24, na.rm=TRUE)"
   ]
  },
  {
   "cell_type": "markdown",
   "metadata": {},
   "source": [
    "# Use the data you loaded from Question 1. Consider the variable FES in the code book. Which of the \"tidy data\" principles does this variable violate?\n",
    "- Tidy data has variable values that are internally consistent.\n",
    "- Each variable in a tidy data set has been transformed to be interpretable.\n",
    "- Tidy data has one variable per column. <font color='red'>Correct</font>\n",
    "- Numeric values in tidy data can not represent categories. "
   ]
  },
  {
   "cell_type": "markdown",
   "metadata": {},
   "source": [
    "# Download the Excel spreadsheet on Natural Gas Aquisition Program here:\n",
    "####  https://d396qusza40orc.cloudfront.net/getdata%2Fdata%2FDATA.gov_NGAP.xlsx\n",
    "#### Read rows 18-23 and columns 7-15 into R and assign the result to a variable called:"
   ]
  },
  {
   "cell_type": "code",
   "execution_count": 23,
   "metadata": {},
   "outputs": [],
   "source": [
    "url <- \"https://d396qusza40orc.cloudfront.net/getdata%2Fdata%2FDATA.gov_NGAP.xlsx\"\n",
    "download.file(url, destfile = \"./NGS.xlsx\")"
   ]
  },
  {
   "cell_type": "code",
   "execution_count": 28,
   "metadata": {},
   "outputs": [],
   "source": [
    "library(xlsx)\n",
    "NGA <- read.xlsx(\"NGS.xlsx\", sheetIndex = 1, header=F)"
   ]
  },
  {
   "cell_type": "code",
   "execution_count": 30,
   "metadata": {},
   "outputs": [
    {
     "data": {
      "text/html": [
       "<table>\n",
       "<caption>A data.frame: 6 × 26</caption>\n",
       "<thead>\n",
       "\t<tr><th scope=col>X1</th><th scope=col>X2</th><th scope=col>X3</th><th scope=col>X4</th><th scope=col>X5</th><th scope=col>X6</th><th scope=col>X7</th><th scope=col>X8</th><th scope=col>X9</th><th scope=col>X10</th><th scope=col>⋯</th><th scope=col>X17</th><th scope=col>X18</th><th scope=col>X19</th><th scope=col>X20</th><th scope=col>X21</th><th scope=col>X22</th><th scope=col>X23</th><th scope=col>X24</th><th scope=col>X25</th><th scope=col>X26</th></tr>\n",
       "\t<tr><th scope=col>&lt;fct&gt;</th><th scope=col>&lt;fct&gt;</th><th scope=col>&lt;fct&gt;</th><th scope=col>&lt;fct&gt;</th><th scope=col>&lt;fct&gt;</th><th scope=col>&lt;fct&gt;</th><th scope=col>&lt;fct&gt;</th><th scope=col>&lt;fct&gt;</th><th scope=col>&lt;fct&gt;</th><th scope=col>&lt;fct&gt;</th><th scope=col>⋯</th><th scope=col>&lt;fct&gt;</th><th scope=col>&lt;fct&gt;</th><th scope=col>&lt;fct&gt;</th><th scope=col>&lt;fct&gt;</th><th scope=col>&lt;fct&gt;</th><th scope=col>&lt;fct&gt;</th><th scope=col>&lt;fct&gt;</th><th scope=col>&lt;fct&gt;</th><th scope=col>&lt;fct&gt;</th><th scope=col>&lt;fct&gt;</th></tr>\n",
       "</thead>\n",
       "<tbody>\n",
       "\t<tr><td>Table Name: Contract</td><td>NA          </td><td>NA                 </td><td>NA       </td><td>NA                 </td><td>NA</td><td>NA</td><td>NA</td><td>NA</td><td>NA</td><td>⋯</td><td>NA</td><td>NA</td><td>NA</td><td>NA</td><td>NA</td><td>NA</td><td>NA</td><td>NA</td><td>NA</td><td>NA</td></tr>\n",
       "\t<tr><td>ContractNumber      </td><td>ContractorId</td><td>ExpiryDate         </td><td>CFileName</td><td>ReactivationDt     </td><td>NA</td><td>NA</td><td>NA</td><td>NA</td><td>NA</td><td>⋯</td><td>NA</td><td>NA</td><td>NA</td><td>NA</td><td>NA</td><td>NA</td><td>NA</td><td>NA</td><td>NA</td><td>NA</td></tr>\n",
       "\t<tr><td>GS-00P-02-BSC-0201  </td><td>23          </td><td>2004-09-30 00:00:00</td><td>NA       </td><td>2004-09-30 00:00:00</td><td>NA</td><td>NA</td><td>NA</td><td>NA</td><td>NA</td><td>⋯</td><td>NA</td><td>NA</td><td>NA</td><td>NA</td><td>NA</td><td>NA</td><td>NA</td><td>NA</td><td>NA</td><td>NA</td></tr>\n",
       "\t<tr><td>GS-00P-02-BSC-0204  </td><td>5           </td><td>2003-10-31 00:00:00</td><td>NULL     </td><td>NULL               </td><td>NA</td><td>NA</td><td>NA</td><td>NA</td><td>NA</td><td>⋯</td><td>NA</td><td>NA</td><td>NA</td><td>NA</td><td>NA</td><td>NA</td><td>NA</td><td>NA</td><td>NA</td><td>NA</td></tr>\n",
       "\t<tr><td>GS-00P-02-BSC-0206  </td><td>6           </td><td>2004-10-31 00:00:00</td><td>NA       </td><td>2004-11-02 00:00:00</td><td>NA</td><td>NA</td><td>NA</td><td>NA</td><td>NA</td><td>⋯</td><td>NA</td><td>NA</td><td>NA</td><td>NA</td><td>NA</td><td>NA</td><td>NA</td><td>NA</td><td>NA</td><td>NA</td></tr>\n",
       "\t<tr><td>GS-00P-02-BSC-0207  </td><td>4           </td><td>2006-10-31 00:00:00</td><td>NA       </td><td>2004-11-01 00:00:00</td><td>NA</td><td>NA</td><td>NA</td><td>NA</td><td>NA</td><td>⋯</td><td>NA</td><td>NA</td><td>NA</td><td>NA</td><td>NA</td><td>NA</td><td>NA</td><td>NA</td><td>NA</td><td>NA</td></tr>\n",
       "</tbody>\n",
       "</table>\n"
      ],
      "text/latex": [
       "A data.frame: 6 × 26\n",
       "\\begin{tabular}{r|llllllllllllllllllllllllll}\n",
       " X1 & X2 & X3 & X4 & X5 & X6 & X7 & X8 & X9 & X10 & X11 & X12 & X13 & X14 & X15 & X16 & X17 & X18 & X19 & X20 & X21 & X22 & X23 & X24 & X25 & X26\\\\\n",
       " <fct> & <fct> & <fct> & <fct> & <fct> & <fct> & <fct> & <fct> & <fct> & <fct> & <fct> & <fct> & <fct> & <fct> & <fct> & <fct> & <fct> & <fct> & <fct> & <fct> & <fct> & <fct> & <fct> & <fct> & <fct> & <fct>\\\\\n",
       "\\hline\n",
       "\t Table Name: Contract & NA           & NA                  & NA        & NA                  & NA & NA & NA & NA & NA & NA & NA & NA & NA & NA & NA & NA & NA & NA & NA & NA & NA & NA & NA & NA & NA\\\\\n",
       "\t ContractNumber       & ContractorId & ExpiryDate          & CFileName & ReactivationDt      & NA & NA & NA & NA & NA & NA & NA & NA & NA & NA & NA & NA & NA & NA & NA & NA & NA & NA & NA & NA & NA\\\\\n",
       "\t GS-00P-02-BSC-0201   & 23           & 2004-09-30 00:00:00 & NA        & 2004-09-30 00:00:00 & NA & NA & NA & NA & NA & NA & NA & NA & NA & NA & NA & NA & NA & NA & NA & NA & NA & NA & NA & NA & NA\\\\\n",
       "\t GS-00P-02-BSC-0204   & 5            & 2003-10-31 00:00:00 & NULL      & NULL                & NA & NA & NA & NA & NA & NA & NA & NA & NA & NA & NA & NA & NA & NA & NA & NA & NA & NA & NA & NA & NA\\\\\n",
       "\t GS-00P-02-BSC-0206   & 6            & 2004-10-31 00:00:00 & NA        & 2004-11-02 00:00:00 & NA & NA & NA & NA & NA & NA & NA & NA & NA & NA & NA & NA & NA & NA & NA & NA & NA & NA & NA & NA & NA\\\\\n",
       "\t GS-00P-02-BSC-0207   & 4            & 2006-10-31 00:00:00 & NA        & 2004-11-01 00:00:00 & NA & NA & NA & NA & NA & NA & NA & NA & NA & NA & NA & NA & NA & NA & NA & NA & NA & NA & NA & NA & NA\\\\\n",
       "\\end{tabular}\n"
      ],
      "text/markdown": [
       "\n",
       "A data.frame: 6 × 26\n",
       "\n",
       "| X1 &lt;fct&gt; | X2 &lt;fct&gt; | X3 &lt;fct&gt; | X4 &lt;fct&gt; | X5 &lt;fct&gt; | X6 &lt;fct&gt; | X7 &lt;fct&gt; | X8 &lt;fct&gt; | X9 &lt;fct&gt; | X10 &lt;fct&gt; | ⋯ ⋯ | X17 &lt;fct&gt; | X18 &lt;fct&gt; | X19 &lt;fct&gt; | X20 &lt;fct&gt; | X21 &lt;fct&gt; | X22 &lt;fct&gt; | X23 &lt;fct&gt; | X24 &lt;fct&gt; | X25 &lt;fct&gt; | X26 &lt;fct&gt; |\n",
       "|---|---|---|---|---|---|---|---|---|---|---|---|---|---|---|---|---|---|---|---|---|\n",
       "| Table Name: Contract | NA           | NA                  | NA        | NA                  | NA | NA | NA | NA | NA | ⋯ | NA | NA | NA | NA | NA | NA | NA | NA | NA | NA |\n",
       "| ContractNumber       | ContractorId | ExpiryDate          | CFileName | ReactivationDt      | NA | NA | NA | NA | NA | ⋯ | NA | NA | NA | NA | NA | NA | NA | NA | NA | NA |\n",
       "| GS-00P-02-BSC-0201   | 23           | 2004-09-30 00:00:00 | NA        | 2004-09-30 00:00:00 | NA | NA | NA | NA | NA | ⋯ | NA | NA | NA | NA | NA | NA | NA | NA | NA | NA |\n",
       "| GS-00P-02-BSC-0204   | 5            | 2003-10-31 00:00:00 | NULL      | NULL                | NA | NA | NA | NA | NA | ⋯ | NA | NA | NA | NA | NA | NA | NA | NA | NA | NA |\n",
       "| GS-00P-02-BSC-0206   | 6            | 2004-10-31 00:00:00 | NA        | 2004-11-02 00:00:00 | NA | NA | NA | NA | NA | ⋯ | NA | NA | NA | NA | NA | NA | NA | NA | NA | NA |\n",
       "| GS-00P-02-BSC-0207   | 4            | 2006-10-31 00:00:00 | NA        | 2004-11-01 00:00:00 | NA | NA | NA | NA | NA | ⋯ | NA | NA | NA | NA | NA | NA | NA | NA | NA | NA |\n",
       "\n"
      ],
      "text/plain": [
       "  X1                   X2           X3                  X4       \n",
       "1 Table Name: Contract NA           NA                  NA       \n",
       "2 ContractNumber       ContractorId ExpiryDate          CFileName\n",
       "3 GS-00P-02-BSC-0201   23           2004-09-30 00:00:00 NA       \n",
       "4 GS-00P-02-BSC-0204   5            2003-10-31 00:00:00 NULL     \n",
       "5 GS-00P-02-BSC-0206   6            2004-10-31 00:00:00 NA       \n",
       "6 GS-00P-02-BSC-0207   4            2006-10-31 00:00:00 NA       \n",
       "  X5                  X6 X7 X8 X9 X10 ⋯ X17 X18 X19 X20 X21 X22 X23 X24 X25 X26\n",
       "1 NA                  NA NA NA NA NA  ⋯ NA  NA  NA  NA  NA  NA  NA  NA  NA  NA \n",
       "2 ReactivationDt      NA NA NA NA NA  ⋯ NA  NA  NA  NA  NA  NA  NA  NA  NA  NA \n",
       "3 2004-09-30 00:00:00 NA NA NA NA NA  ⋯ NA  NA  NA  NA  NA  NA  NA  NA  NA  NA \n",
       "4 NULL                NA NA NA NA NA  ⋯ NA  NA  NA  NA  NA  NA  NA  NA  NA  NA \n",
       "5 2004-11-02 00:00:00 NA NA NA NA NA  ⋯ NA  NA  NA  NA  NA  NA  NA  NA  NA  NA \n",
       "6 2004-11-01 00:00:00 NA NA NA NA NA  ⋯ NA  NA  NA  NA  NA  NA  NA  NA  NA  NA "
      ]
     },
     "metadata": {},
     "output_type": "display_data"
    }
   ],
   "source": [
    "arg"
   ]
  },
  {
   "cell_type": "code",
   "execution_count": null,
   "metadata": {},
   "outputs": [],
   "source": []
  }
 ],
 "metadata": {
  "kernelspec": {
   "display_name": "R",
   "language": "R",
   "name": "ir"
  },
  "language_info": {
   "codemirror_mode": "r",
   "file_extension": ".r",
   "mimetype": "text/x-r-source",
   "name": "R",
   "pygments_lexer": "r",
   "version": "3.6.0"
  }
 },
 "nbformat": 4,
 "nbformat_minor": 2
}
