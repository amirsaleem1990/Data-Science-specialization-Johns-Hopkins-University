{
 "cells": [
  {
   "cell_type": "markdown",
   "metadata": {},
   "source": [
    "[Link to Quiz](https://www.coursera.org/learn/data-cleaning/exam/9W3Y2/week-4-quiz)"
   ]
  },
  {
   "cell_type": "markdown",
   "metadata": {},
   "source": [
    "# 1. Question"
   ]
  },
  {
   "cell_type": "markdown",
   "metadata": {},
   "source": [
    "The American Community Survey distributes downloadable data about United States communities. Download the 2006 microdata survey about housing for the state of Idaho using download.file() from here:\n",
    "https://d396qusza40orc.cloudfront.net/getdata%2Fdata%2Fss06hid.csv\n",
    "and load the data into R. The code book, describing the variable names is here:\n",
    "https://d396qusza40orc.cloudfront.net/getdata%2Fdata%2FPUMSDataDict06.pdf\n",
    "Apply strsplit() to split all the names of the data frame on the characters \"wgtp\". What is the value of the 123 element of the resulting list?\n",
    "- \"\" \"15\"\n",
    "- \"wgtp\"\n",
    "- \"wgtp\" \"15\"\n",
    "- \"wgt\" \"15\""
   ]
  },
  {
   "cell_type": "code",
   "execution_count": 1,
   "metadata": {},
   "outputs": [
    {
     "name": "stderr",
     "output_type": "stream",
     "text": [
      "\n",
      "Attaching package: ‘dplyr’\n",
      "\n",
      "The following objects are masked from ‘package:stats’:\n",
      "\n",
      "    filter, lag\n",
      "\n",
      "The following objects are masked from ‘package:base’:\n",
      "\n",
      "    intersect, setdiff, setequal, union\n",
      "\n"
     ]
    },
    {
     "data": {
      "text/html": [
       "<ol>\n",
       "\t<li><ol class=list-inline>\n",
       "\t<li>''</li>\n",
       "\t<li>'15'</li>\n",
       "</ol>\n",
       "</li>\n",
       "</ol>\n"
      ],
      "text/latex": [
       "\\begin{enumerate}\n",
       "\\item \\begin{enumerate*}\n",
       "\\item ''\n",
       "\\item '15'\n",
       "\\end{enumerate*}\n",
       "\n",
       "\\end{enumerate}\n"
      ],
      "text/markdown": [
       "1. 1. ''\n",
       "2. '15'\n",
       "\n",
       "\n",
       "\n",
       "\n",
       "\n"
      ],
      "text/plain": [
       "[[1]]\n",
       "[1] \"\"   \"15\"\n"
      ]
     },
     "metadata": {},
     "output_type": "display_data"
    }
   ],
   "source": [
    "library(dplyr)\n",
    "url <- \"https://d396qusza40orc.cloudfront.net/getdata%2Fdata%2Fss06hid.csv\"\n",
    "download.file(url = url, destfile = \"American_Community_Survey.csv\")\n",
    "df = read.csv(\"American_Community_Survey.csv\")\n",
    "strsplit(names(df), \"wgtp\")[123]"
   ]
  },
  {
   "cell_type": "markdown",
   "metadata": {},
   "source": [
    "# 2. Question"
   ]
  },
  {
   "cell_type": "markdown",
   "metadata": {},
   "source": [
    "Load the Gross Domestic Product data for the 190 ranked countries in this data set:<br>\n",
    "https://d396qusza40orc.cloudfront.net/getdata%2Fdata%2FGDP.csv<br>\n",
    "Remove the commas from the GDP numbers in millions of dollars and average them. What is the average?<br>\n",
    "Original data sources:<br>\n",
    "http://data.worldbank.org/data-catalog/GDP-ranking-table<br>\n",
    "- 381668.9\n",
    "- 387854.4\n",
    "- 377652.4\n",
    "- 381615.4"
   ]
  },
  {
   "cell_type": "code",
   "execution_count": 2,
   "metadata": {},
   "outputs": [
    {
     "data": {
      "text/html": [
       "377652.421052632"
      ],
      "text/latex": [
       "377652.421052632"
      ],
      "text/markdown": [
       "377652.421052632"
      ],
      "text/plain": [
       "[1] 377652.4"
      ]
     },
     "metadata": {},
     "output_type": "display_data"
    }
   ],
   "source": [
    "url <- \"https://d396qusza40orc.cloudfront.net/getdata%2Fdata%2FGDP.csv\"\n",
    "download.file(url = url, destfile = \"Gross_Domestic_Product.csv\")\n",
    "df = read.csv(\"Gross_Domestic_Product.csv\",header = T, skip = 3)\n",
    "df = df[-c(1, 192:327),]\n",
    "df[\"US.dollars.\"] <- gsub(\" \", \"\", gsub(\",\", \"\", df$`US.dollars.`))\n",
    "df$US.dollars. <- as.integer(df$US.dollars.)\n",
    "mean(df$US.dollars.)"
   ]
  },
  {
   "cell_type": "markdown",
   "metadata": {},
   "source": [
    "# 3. Question"
   ]
  },
  {
   "cell_type": "markdown",
   "metadata": {},
   "source": [
    "In the data set from Question 2 what is a regular expression that would allow you to count the number of countries whose name begins with \"United\"? Assume that the variable with the country names in it is named countryNames. How many countries begin with United?\n",
    "- grep(\"^United\",countryNames), 4\n",
    "- grep(\"United$\",countryNames), 3 # Correct\n",
    "- grep(\"*United\",countryNames), 2\n",
    "- grep(\"^United\",countryNames), 3"
   ]
  },
  {
   "cell_type": "code",
   "execution_count": 3,
   "metadata": {},
   "outputs": [
    {
     "name": "stderr",
     "output_type": "stream",
     "text": [
      "Warning message in grep(\"^United\", df$Economy, value = T):\n",
      "“input string 99 is invalid in this locale”Warning message in grep(\"^United\", df$Economy, value = T):\n",
      "“input string 186 is invalid in this locale”"
     ]
    },
    {
     "data": {
      "text/html": [
       "3"
      ],
      "text/latex": [
       "3"
      ],
      "text/markdown": [
       "3"
      ],
      "text/plain": [
       "[1] 3"
      ]
     },
     "metadata": {},
     "output_type": "display_data"
    }
   ],
   "source": [
    "length(grep(\"^United\", df$Economy, value = T))"
   ]
  },
  {
   "cell_type": "markdown",
   "metadata": {},
   "source": [
    "# 4. Question"
   ]
  },
  {
   "cell_type": "markdown",
   "metadata": {},
   "source": [
    "Load the Gross Domestic Product data for the 190 ranked countries in this data set:<br>\n",
    "https://d396qusza40orc.cloudfront.net/getdata%2Fdata%2FGDP.csv<br>\n",
    "Load the educational data from this data set:<br>\n",
    "https://d396qusza40orc.cloudfront.net/getdata%2Fdata%2FEDSTATS_Country.csv<br>\n",
    "Match the data based on the country shortcode. Of the countries for which the end of the fiscal year is available, how many end in June?<br>\n",
    "Original data sources:<br>\n",
    "http://data.worldbank.org/data-catalog/GDP-ranking-table<br>\n",
    "http://data.worldbank.org/data-catalog/ed-stats<br>\n",
    "- 8\n",
    "- 13\n",
    "- 16\n",
    "- 7"
   ]
  },
  {
   "cell_type": "code",
   "execution_count": 4,
   "metadata": {},
   "outputs": [
    {
     "data": {
      "text/html": [
       "13"
      ],
      "text/latex": [
       "13"
      ],
      "text/markdown": [
       "13"
      ],
      "text/plain": [
       "[1] 13"
      ]
     },
     "metadata": {},
     "output_type": "display_data"
    }
   ],
   "source": [
    "Gross_Domestic_Product = read.csv(\"https://d396qusza40orc.cloudfront.net/getdata%2Fdata%2FGDP.csv\",header = T, skip = 3)\n",
    "Gross_Domestic_Product = Gross_Domestic_Product[-c(1, 192:327),]\n",
    "Gross_Domestic_Product <- Gross_Domestic_Product[,c(1,2,4,5,6)]\n",
    "colnames(Gross_Domestic_Product)[1] <- \"CountryCode\"\n",
    "\n",
    "educational= read.csv(\"https://d396qusza40orc.cloudfront.net/getdata%2Fdata%2FEDSTATS_Country.csv\")\n",
    "\n",
    "m <- merge(Gross_Domestic_Product, educational, by = \"CountryCode\")\n",
    "a = as.vector(grep(\"Fiscal year end: \", m$Special.Notes, value = T))\n",
    "length(grep(\"June\", a))"
   ]
  },
  {
   "cell_type": "markdown",
   "metadata": {},
   "source": [
    "# 5. Question"
   ]
  },
  {
   "cell_type": "markdown",
   "metadata": {},
   "source": [
    "You can use the quantmod (http://www.quantmod.com/) package to get historical stock prices for publicly traded companies on the NASDAQ and NYSE. Use the following code to download data on Amazon's stock price and get the times the data was sampled.\n",
    "- library(quantmod)\n",
    "- amzn = getSymbols(\"AMZN\",auto.assign=FALSE)\n",
    "- sampleTimes = index(amzn)<br>\n",
    "\n",
    "How many values were collected in 2012? How many values were collected on Mondays in 2012?\n",
    "\n",
    "- 365, 52\n",
    "- 252, 50\n",
    "- 251,51\n",
    "- 250, 47"
   ]
  },
  {
   "cell_type": "code",
   "execution_count": 5,
   "metadata": {},
   "outputs": [
    {
     "name": "stderr",
     "output_type": "stream",
     "text": [
      "Loading required package: xts\n",
      "Loading required package: zoo\n",
      "\n",
      "Attaching package: ‘zoo’\n",
      "\n",
      "The following objects are masked from ‘package:base’:\n",
      "\n",
      "    as.Date, as.Date.numeric\n",
      "\n",
      "\n",
      "Attaching package: ‘xts’\n",
      "\n",
      "The following objects are masked from ‘package:dplyr’:\n",
      "\n",
      "    first, last\n",
      "\n",
      "Loading required package: TTR\n",
      "Version 0.4-0 included new data defaults. See ?getSymbols.\n",
      "‘getSymbols’ currently uses auto.assign=TRUE by default, but will\n",
      "use auto.assign=FALSE in 0.5-0. You will still be able to use\n",
      "‘loadSymbols’ to automatically load data. getOption(\"getSymbols.env\")\n",
      "and getOption(\"getSymbols.auto.assign\") will still be checked for\n",
      "alternate defaults.\n",
      "\n",
      "This message is shown once per session and may be disabled by setting \n",
      "options(\"getSymbols.warning4.0\"=FALSE). See ?getSymbols for details.\n",
      "\n",
      "\n",
      "Attaching package: ‘lubridate’\n",
      "\n",
      "The following object is masked from ‘package:base’:\n",
      "\n",
      "    date\n",
      "\n"
     ]
    },
    {
     "data": {
      "text/html": [
       "250"
      ],
      "text/latex": [
       "250"
      ],
      "text/markdown": [
       "250"
      ],
      "text/plain": [
       "[1] 250"
      ]
     },
     "metadata": {},
     "output_type": "display_data"
    },
    {
     "data": {
      "text/html": [
       "47"
      ],
      "text/latex": [
       "47"
      ],
      "text/markdown": [
       "47"
      ],
      "text/plain": [
       "[1] 47"
      ]
     },
     "metadata": {},
     "output_type": "display_data"
    }
   ],
   "source": [
    "library(quantmod)\n",
    "amzn = getSymbols(\"AMZN\",auto.assign=FALSE)\n",
    "sampleTimes = index(amzn)\n",
    "library(lubridate)\n",
    "sum(year(sampleTimes) == 2012)\n",
    "\n",
    "twenty_twelve <- sampleTimes[year(sampleTimes) == 2012]\n",
    "sum(weekdays(twenty_twelve) == \"Monday\")"
   ]
  }
 ],
 "metadata": {
  "kernelspec": {
   "display_name": "R",
   "language": "R",
   "name": "ir"
  },
  "language_info": {
   "codemirror_mode": "r",
   "file_extension": ".r",
   "mimetype": "text/x-r-source",
   "name": "R",
   "pygments_lexer": "r",
   "version": "3.5.2"
  }
 },
 "nbformat": 4,
 "nbformat_minor": 2
}
