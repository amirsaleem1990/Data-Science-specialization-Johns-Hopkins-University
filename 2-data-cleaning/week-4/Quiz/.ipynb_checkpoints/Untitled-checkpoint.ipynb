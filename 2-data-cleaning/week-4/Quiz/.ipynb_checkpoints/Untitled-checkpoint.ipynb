{
 "cells": [
  {
   "cell_type": "markdown",
   "metadata": {},
   "source": [
    "[Link to Quiz](https://www.coursera.org/learn/data-cleaning/exam/9W3Y2/week-4-quiz)"
   ]
  },
  {
   "cell_type": "markdown",
   "metadata": {},
   "source": [
    "# 1. Question"
   ]
  },
  {
   "cell_type": "markdown",
   "metadata": {},
   "source": [
    "The American Community Survey distributes downloadable data about United States communities. Download the 2006 microdata survey about housing for the state of Idaho using download.file() from here:\n",
    "https://d396qusza40orc.cloudfront.net/getdata%2Fdata%2Fss06hid.csv\n",
    "and load the data into R. The code book, describing the variable names is here:\n",
    "https://d396qusza40orc.cloudfront.net/getdata%2Fdata%2FPUMSDataDict06.pdf\n",
    "Apply strsplit() to split all the names of the data frame on the characters \"wgtp\". What is the value of the 123 element of the resulting list?\n",
    "- \"\" \"15\"\n",
    "- \"wgtp\"\n",
    "- \"wgtp\" \"15\"\n",
    "- \"wgt\" \"15\""
   ]
  },
  {
   "cell_type": "markdown",
   "metadata": {},
   "source": [
    "# 2. Question"
   ]
  },
  {
   "cell_type": "markdown",
   "metadata": {},
   "source": [
    "Load the Gross Domestic Product data for the 190 ranked countries in this data set:<br>\n",
    "https://d396qusza40orc.cloudfront.net/getdata%2Fdata%2FGDP.csv<br>\n",
    "Remove the commas from the GDP numbers in millions of dollars and average them. What is the average?<br>\n",
    "Original data sources:<br>\n",
    "http://data.worldbank.org/data-catalog/GDP-ranking-table<br>\n",
    "- 381668.9\n",
    "- 387854.4\n",
    "- 377652.4\n",
    "- 381615.4"
   ]
  },
  {
   "cell_type": "markdown",
   "metadata": {},
   "source": [
    "# 3. Question"
   ]
  },
  {
   "cell_type": "markdown",
   "metadata": {},
   "source": [
    "In the data set from Question 2 what is a regular expression that would allow you to count the number of countries whose name begins with \"United\"? Assume that the variable with the country names in it is named countryNames. How many countries begin with United?\n",
    "- grep(\"^United\",countryNames), 4\n",
    "- grep(\"United$\",countryNames), 3\n",
    "- grep(\"*United\",countryNames), 2\n",
    "- grep(\"^United\",countryNames), 3"
   ]
  },
  {
   "cell_type": "markdown",
   "metadata": {},
   "source": [
    "# 4. Question"
   ]
  },
  {
   "cell_type": "markdown",
   "metadata": {},
   "source": [
    "Load the Gross Domestic Product data for the 190 ranked countries in this data set:<br>\n",
    "https://d396qusza40orc.cloudfront.net/getdata%2Fdata%2FGDP.csv<br>\n",
    "Load the educational data from this data set:<br>\n",
    "https://d396qusza40orc.cloudfront.net/getdata%2Fdata%2FEDSTATS_Country.csv<br>\n",
    "Match the data based on the country shortcode. Of the countries for which the end of the fiscal year is available, how many end in June?<br>\n",
    "Original data sources:<br>\n",
    "http://data.worldbank.org/data-catalog/GDP-ranking-table<br>\n",
    "http://data.worldbank.org/data-catalog/ed-stats<br>\n",
    "- 8\n",
    "- 13\n",
    "- 16\n",
    "- 7"
   ]
  },
  {
   "cell_type": "markdown",
   "metadata": {},
   "source": [
    "# 5. Question"
   ]
  },
  {
   "cell_type": "markdown",
   "metadata": {},
   "source": [
    "You can use the quantmod (http://www.quantmod.com/) package to get historical stock prices for publicly traded companies on the NASDAQ and NYSE. Use the following code to download data on Amazon's stock price and get the times the data was sampled.\n",
    "- library(quantmod)\n",
    "- amzn = getSymbols(\"AMZN\",auto.assign=FALSE)\n",
    "- sampleTimes = index(amzn)<br>\n",
    "\n",
    "How many values were collected in 2012? How many values were collected on Mondays in 2012?\n",
    "\n",
    "- 365, 52\n",
    "- 252, 50\n",
    "- 251,51\n",
    "- 250, 47"
   ]
  },
  {
   "cell_type": "code",
   "execution_count": null,
   "metadata": {},
   "outputs": [],
   "source": []
  }
 ],
 "metadata": {
  "kernelspec": {
   "display_name": "R",
   "language": "R",
   "name": "ir"
  },
  "language_info": {
   "codemirror_mode": "r",
   "file_extension": ".r",
   "mimetype": "text/x-r-source",
   "name": "R",
   "pygments_lexer": "r",
   "version": "3.5.2"
  }
 },
 "nbformat": 4,
 "nbformat_minor": 2
}
