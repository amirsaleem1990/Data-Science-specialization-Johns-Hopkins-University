{
 "cells": [
  {
   "cell_type": "code",
   "execution_count": 66,
   "metadata": {},
   "outputs": [],
   "source": [
    "pollutantmean <- function(directory, pollutant, id = 1:332){\n",
    "\t## 'directory' is a character vector of length 1 indicating the location of the csv file\n",
    "\t## 'pollutant' is a character vector of length 1 indicating the name of the pollutant of which we will calculate the mean; eithter 'sulfate' or 'nitrate'\n",
    "\t## 'id' is an integer vectro indicating the monitor ID numbers to be used\n",
    "\t## Return the mean of the pollutant across all monitors list in the 'id' vector (ignoring NA values)\n",
    "\tif (class(id) == pollutant){\n",
    "    a = tbl %>% \n",
    "        filter(ID >= 70 & ID <= 72)\n",
    "    mean(a$nitrate, na.rm=T)\n",
    "    }\n",
    "    else if(class(id) == pollutant){\n",
    "        mean(tbl[tbl$ID == id][pollutant], na.rm=TRUE)\n",
    "    }\n",
    "\t## NOTE: do not round the result!\n",
    "    }\n",
    "\n",
    "\n",
    "# if (pollutantmean(\"specdata\", \"nitrate\", 70:72) == 1.70604735169492){\n",
    "# \tprint(\"OK\")\n",
    "# }else print(\"NO\")\n",
    "\n",
    "# if (pollutantmean(\"specdata\", \"nitrate\", 23)) == 1.28083333333333{\n",
    "# \tprint(\"OK\")\n",
    "# }else print(\"NO\")"
   ]
  },
  {
   "cell_type": "code",
   "execution_count": 96,
   "metadata": {},
   "outputs": [
    {
     "name": "stderr",
     "output_type": "stream",
     "text": [
      "Warning message in mean.default(tbl[tbl$ID == id, ][pollutant], na.rm = TRUE):\n",
      "“argument is not numeric or logical: returning NA”"
     ]
    },
    {
     "name": "stdout",
     "output_type": "stream",
     "text": [
      "[1] NA\n"
     ]
    }
   ],
   "source": [
    "id = 7\n",
    "if (class(id) == 'integer'){\n",
    "    a = tbl %>% \n",
    "        filter(ID >= min(id) & ID <= max(id))\n",
    "    print(mean(a$nitrate, na.rm=T))\n",
    "}else if(class(id) == 'numeric'){\n",
    "    print(mean(tbl[tbl$ID == id,][pollutant], na.rm=TRUE))\n",
    "}"
   ]
  },
  {
   "cell_type": "code",
   "execution_count": 7,
   "metadata": {},
   "outputs": [
    {
     "name": "stderr",
     "output_type": "stream",
     "text": [
      "Registered S3 methods overwritten by 'ggplot2':\n",
      "  method         from \n",
      "  [.quosures     rlang\n",
      "  c.quosures     rlang\n",
      "  print.quosures rlang\n",
      "── \u001b[1mAttaching packages\u001b[22m ─────────────────────────────────────── tidyverse 1.2.1 ──\n",
      "\u001b[32m✔\u001b[39m \u001b[34mggplot2\u001b[39m 3.1.1       \u001b[32m✔\u001b[39m \u001b[34mpurrr  \u001b[39m 0.3.2  \n",
      "\u001b[32m✔\u001b[39m \u001b[34mtibble \u001b[39m 2.1.1       \u001b[32m✔\u001b[39m \u001b[34mdplyr  \u001b[39m 0.8.0.\u001b[31m1\u001b[39m\n",
      "\u001b[32m✔\u001b[39m \u001b[34mtidyr  \u001b[39m 0.8.3       \u001b[32m✔\u001b[39m \u001b[34mstringr\u001b[39m 1.4.0  \n",
      "\u001b[32m✔\u001b[39m \u001b[34mreadr  \u001b[39m 1.3.1       \u001b[32m✔\u001b[39m \u001b[34mforcats\u001b[39m 0.4.0  \n",
      "── \u001b[1mConflicts\u001b[22m ────────────────────────────────────────── tidyverse_conflicts() ──\n",
      "\u001b[31m✖\u001b[39m \u001b[34mdplyr\u001b[39m::\u001b[32mfilter()\u001b[39m masks \u001b[34mstats\u001b[39m::filter()\n",
      "\u001b[31m✖\u001b[39m \u001b[34mdplyr\u001b[39m::\u001b[32mlag()\u001b[39m    masks \u001b[34mstats\u001b[39m::lag()\n"
     ]
    }
   ],
   "source": [
    "setwd(\"specdata\")\n",
    "library(tidyverse)\n",
    "tbl <-\n",
    "    list.files(pattern = \"specdata/*.csv\") %>% \n",
    "    map_df(~read_csv(.))"
   ]
  },
  {
   "cell_type": "code",
   "execution_count": 119,
   "metadata": {},
   "outputs": [
    {
     "name": "stderr",
     "output_type": "stream",
     "text": [
      "Warning message in mean.default(tbl[tbl$ID == id, ][pollutant], na.rm = TRUE):\n",
      "“argument is not numeric or logical: returning NA”"
     ]
    },
    {
     "data": {
      "text/html": [
       "&lt;NA&gt;"
      ],
      "text/latex": [
       "<NA>"
      ],
      "text/markdown": [
       "&lt;NA&gt;"
      ],
      "text/plain": [
       "[1] NA"
      ]
     },
     "metadata": {},
     "output_type": "display_data"
    }
   ],
   "source": [
    "mean(tbl[tbl$ID == id,][pollutant], na.rm = TRUE)"
   ]
  },
  {
   "cell_type": "code",
   "execution_count": 121,
   "metadata": {},
   "outputs": [
    {
     "data": {
      "text/html": [
       "<ol class=list-inline>\n",
       "\t<li>'tbl_df'</li>\n",
       "\t<li>'tbl'</li>\n",
       "\t<li>'data.frame'</li>\n",
       "</ol>\n"
      ],
      "text/latex": [
       "\\begin{enumerate*}\n",
       "\\item 'tbl\\_df'\n",
       "\\item 'tbl'\n",
       "\\item 'data.frame'\n",
       "\\end{enumerate*}\n"
      ],
      "text/markdown": [
       "1. 'tbl_df'\n",
       "2. 'tbl'\n",
       "3. 'data.frame'\n",
       "\n",
       "\n"
      ],
      "text/plain": [
       "[1] \"tbl_df\"     \"tbl\"        \"data.frame\""
      ]
     },
     "metadata": {},
     "output_type": "display_data"
    }
   ],
   "source": [
    "class(tbl[tbl$ID == id,][pollutant])"
   ]
  },
  {
   "cell_type": "code",
   "execution_count": null,
   "metadata": {},
   "outputs": [],
   "source": []
  }
 ],
 "metadata": {
  "kernelspec": {
   "display_name": "R",
   "language": "R",
   "name": "ir"
  },
  "language_info": {
   "codemirror_mode": "r",
   "file_extension": ".r",
   "mimetype": "text/x-r-source",
   "name": "R",
   "pygments_lexer": "r",
   "version": "3.6.0"
  }
 },
 "nbformat": 4,
 "nbformat_minor": 2
}
