{
 "cells": [
  {
   "cell_type": "code",
   "execution_count": 4,
   "metadata": {},
   "outputs": [
    {
     "ename": "ERROR",
     "evalue": "Error in system(\"copyfrom pollutantmean.R\", intern = T): error in running command\n",
     "output_type": "error",
     "traceback": [
      "Error in system(\"copyfrom pollutantmean.R\", intern = T): error in running command\nTraceback:\n",
      "1. system(\"copyfrom pollutantmean.R\", intern = T)"
     ]
    }
   ],
   "source": [
    "system(\"copyfrom pollutantmean.R\", intern = T)"
   ]
  },
  {
   "cell_type": "code",
   "execution_count": null,
   "metadata": {},
   "outputs": [],
   "source": []
  }
 ],
 "metadata": {
  "kernelspec": {
   "display_name": "R",
   "language": "R",
   "name": "ir"
  },
  "language_info": {
   "codemirror_mode": "r",
   "file_extension": ".r",
   "mimetype": "text/x-r-source",
   "name": "R",
   "pygments_lexer": "r",
   "version": "3.6.0"
  }
 },
 "nbformat": 4,
 "nbformat_minor": 2
}
