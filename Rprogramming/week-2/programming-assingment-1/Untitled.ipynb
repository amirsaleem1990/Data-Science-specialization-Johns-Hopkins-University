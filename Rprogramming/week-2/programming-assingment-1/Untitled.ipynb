{
 "cells": [
  {
   "cell_type": "code",
   "execution_count": 5,
   "metadata": {},
   "outputs": [
    {
     "data": {
      "text/html": [],
      "text/latex": [],
      "text/markdown": [],
      "text/plain": [
       "character(0)"
      ]
     },
     "metadata": {},
     "output_type": "display_data"
    }
   ],
   "source": [
    "pollutantmean <- function(directory, pollutant, id = 1:332){\n",
    "\t## 'directory' is a character vector of length 1 indicating the location of the csv file\n",
    "\t## 'pollutant' is a character vector of length 1 indicating the name of the pollutant of which we will calculate the mean; eithter 'sulfate' or 'nitrate'\n",
    "\t## 'id' is an integer vectro indicating the monitor ID numbers to be used\n",
    "\t## Return the mean of the pollutant across all monitors list in the 'id' vector (ignoring NA values)\n",
    "\t\n",
    "\t## NOTE: do not round the result!\n",
    "}\n",
    "\n",
    "\n",
    "if (pollutantmean(\"specdata\", \"nitrate\", 70:72) == 1.706047){\n",
    "\tprint(\"OK\")\n",
    "}else print(\"NO\")\n",
    "\n",
    "if (pollutantmean(\"specdata\", \"nitrate\", 23)) == 1.280833{\n",
    "\tprint(\"OK\")\n",
    "}else print(\"NO\")"
   ]
  },
  {
   "cell_type": "code",
   "execution_count": 17,
   "metadata": {},
   "outputs": [
    {
     "data": {
      "text/html": [],
      "text/latex": [],
      "text/markdown": [],
      "text/plain": [
       "character(0)"
      ]
     },
     "metadata": {},
     "output_type": "display_data"
    }
   ],
   "source": [
    "temp = list.files(pattern=\"*.csv\")\n",
    "myfiles = lapply(temp, read.delim)\n",
    "list.files(pattern=\"*.csv\")"
   ]
  },
  {
   "cell_type": "code",
   "execution_count": null,
   "metadata": {},
   "outputs": [],
   "source": []
  }
 ],
 "metadata": {
  "kernelspec": {
   "display_name": "R",
   "language": "R",
   "name": "ir"
  },
  "language_info": {
   "codemirror_mode": "r",
   "file_extension": ".r",
   "mimetype": "text/x-r-source",
   "name": "R",
   "pygments_lexer": "r",
   "version": "3.6.0"
  }
 },
 "nbformat": 4,
 "nbformat_minor": 2
}
